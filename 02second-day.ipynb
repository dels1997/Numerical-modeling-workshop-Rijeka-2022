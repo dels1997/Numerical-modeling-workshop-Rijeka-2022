{
 "cells": [
  {
   "cell_type": "markdown",
   "metadata": {},
   "source": [
    "# Numerical modeling workshop (Rijeka, 2022) — second day"
   ]
  },
  {
   "cell_type": "markdown",
   "metadata": {},
   "source": [
    "TODO: heuristic derivation, connection with NS\n",
    "\n",
    "Shallow-water equations:"
   ]
  },
  {
   "cell_type": "markdown",
   "metadata": {},
   "source": [
    "\\begin{aligned}\n",
    "\\frac{\\partial h}{\\partial t} &= -H\\left(\\frac{\\partial u}{\\partial x} + \\frac{\\partial v}{\\partial y}\\right)\\,\\text,\\\\\n",
    "\\frac{\\partial u}{\\partial t} &= -g\\frac{\\partial h}{\\partial x}\n",
    "+fv\\,\\text,\\\\\n",
    "\\frac{\\partial v}{\\partial t} &= -g\\frac{\\partial h}{\\partial y} - fu\\,\\text.\n",
    "\\end{aligned}"
   ]
  },
  {
   "cell_type": "markdown",
   "metadata": {},
   "source": [
    "Solutions: gravity waves, inertia-gravity waves and geostrofic waves (stationary, degenerate solution).\n",
    "\n",
    "\n",
    "TODO: detailed solution description and derivation\n"
   ]
  },
  {
   "cell_type": "markdown",
   "metadata": {},
   "source": [
    "To discretize the equations, we use a grid of type C:\n",
    "    \n",
    "    h  u  h  u  h  u  h\n",
    "    \n",
    "    v     v     v     v\n",
    "    \n",
    "    h  u  h  u  h  u  h\n",
    "    \n",
    "    v     v     v     v\n",
    "    \n",
    "    h  u  h  u  h  u  h\n",
    "\n",
    "TODO: different grid types, pros and cons of using this one\n",
    "\n",
    "In theory: in bottom left, indices for $v$, $h$, i $u$ are $(0, 0)$ ($(1,1)$ in FORTRAN).\n",
    "\n",
    "In current code: $(0,0)$ is in upper left corner."
   ]
  },
  {
   "cell_type": "markdown",
   "metadata": {},
   "source": [
    "Discretization:"
   ]
  },
  {
   "cell_type": "markdown",
   "metadata": {},
   "source": [
    "\\begin{aligned}\n",
    "\\frac{\\partial h}{\\partial t} = -H\\left(\\delta_x u+\\delta_y v\\right)\\,\\text,\\\\\n",
    "\\frac{\\partial u}{\\partial t} = -g\\delta_xh-f\\bar{v}^{xy}\\,\\text,\\\\\n",
    "\\frac{\\partial v}{\\partial t} = -g\\delta_y h + f\\bar{u}^{xy}\\,\\text.\n",
    "\\end{aligned}"
   ]
  },
  {
   "cell_type": "markdown",
   "metadata": {},
   "source": [
    "\\begin{aligned}\n",
    "\\frac{h^{n+1} - h^n}{\\Delta t} = -H\\left(\\delta_xu + \\delta_yv\\right)^n\\implies h^{n+1} = h^n-H \\cdot \\Delta t\\cdot\\left(\\delta_xu + \\delta_yv\\right)^n\n",
    "\\end{aligned}"
   ]
  },
  {
   "cell_type": "markdown",
   "metadata": {},
   "source": [
    "\\begin{aligned}\n",
    "\\frac{u^{n+1} - u^n}{\\Delta t} = -g\\delta_xh + \\left(f\\bar{v}^{xy}\\right)^n\\implies u^{n+1} = u^n-g \\cdot \\Delta t\\cdot\\delta_x h^{n+1} + f\\Delta t\\left(\\bar{v}^{xy}\\right)^n\n",
    "\\end{aligned}"
   ]
  },
  {
   "cell_type": "markdown",
   "metadata": {},
   "source": [
    "\\begin{aligned}\n",
    "v^{n+1} = v^n-g \\cdot \\Delta t\\cdot\\delta_y  h^{n+1} - f\\Delta t\\left(\\bar{u}^{xy}\\right)^n\n",
    "\\end{aligned}"
   ]
  },
  {
   "cell_type": "markdown",
   "metadata": {},
   "source": [
    "Reminder:"
   ]
  },
  {
   "cell_type": "markdown",
   "metadata": {},
   "source": [
    "\\begin{aligned}\n",
    "\\text{forward difference: }& \\left(\\frac{\\partial h}{\\partial t}\\right)_n = \\frac{h^{n+1}-h^n}{\\Delta t}\\,,\\\\\n",
    "\\text{backward difference: }& \\left(\\frac{\\partial h}{\\partial t}\\right)_n = \\frac{h^n-h^{n-1}}{\\Delta t}\\,.\n",
    "\\end{aligned}"
   ]
  },
  {
   "cell_type": "markdown",
   "metadata": {},
   "source": [
    "In current equations, all spatial differences are backward.\n",
    "\n",
    "Regarding the temporal ones, schema in which we work with backward differences for one variable and forward differences for another is numerically more stable than the case of both of them being either forward or backward and thus one can choose a shorter time step.\n",
    "\n",
    "TODO: discussion or references corroborating this fact"
   ]
  },
  {
   "cell_type": "markdown",
   "metadata": {},
   "source": [
    "Finally, we turn the equation into indexed form based on the grid sketched above:"
   ]
  },
  {
   "cell_type": "markdown",
   "metadata": {},
   "source": [
    "\\begin{aligned}\n",
    "h_{i,j}^{n+1} &= h_{i,j}^n - \\frac{H\\Delta t}{d}\\left[\\left(u_{i,j}^n - u_{i-1,j}^n\\right) + \\left(v_{i,j}^n - v_{i,j-1}^n\\right)\\right]\\,,\\\\\n",
    "u_{i,j}^{n+1} &= u_{i,j}^n - \\Delta t\\left[\\frac gd\\left(h_{i+1,j}^{n+1} - h_{i,j}^{n+1}\\right) + \\frac f4\\left(v_{i,j}^n+v_{i+1,j}^n+v_{i+1,j-1}^n+v_{i,j-1}^n)\\right)\\right]\\,,\\\\\n",
    "v_{i,j}^{n+1} &= v_{i,j}^n - \\Delta t\\left[\\frac gd\\left(h_{i,j+1}^{n+1}-h_{i,j}^{n+1}\\right) - \\frac f4\\left(u_{i,j}^n + u_{i,j+1}^n + u_{i-1,j+1}^n + u_{i-1,j}^n\\right)\\right]\n",
    "\\end{aligned}"
   ]
  },
  {
   "cell_type": "markdown",
   "metadata": {},
   "source": [
    "## Source-sink experiment"
   ]
  },
  {
   "cell_type": "markdown",
   "metadata": {},
   "source": [
    "### Preliminaries"
   ]
  },
  {
   "cell_type": "code",
   "execution_count": 1,
   "metadata": {},
   "outputs": [],
   "source": [
    "import math\n",
    "import matplotlib.pyplot as plt\n",
    "import numpy as np\n",
    "from copy import copy, deepcopy"
   ]
  },
  {
   "cell_type": "code",
   "execution_count": 2,
   "metadata": {},
   "outputs": [],
   "source": [
    "Deltax = Deltay = d = 250000 # spatial step and the least distance between two cells in the grid\n",
    "Deltat = 600 # time step\n",
    "g = 9.81 # gravitational constant\n",
    "f = 10 ** (-4) \n",
    "Lx = 23250000 # domain size in x direction\n",
    "Ly = 21000000 # domain size in y direction\n",
    "SSdistance = 1750000 # distance between source and sink\n",
    "IM = round(Ly / Deltay) + 1 # number of grid points in y direction\n",
    "JM = round(Lx / Deltax) + 1 # number of grid points in x direction\n",
    "# NB: index i will correspond to y direction and index x will correspond to x direction\n",
    "HN = 1000 # initial, unperturbed water height (over all domain)\n",
    "T_steps = 10 # number of time steps\n",
    "dh = round(2 * Deltat / 60) # water influx/outflux per time unit\n",
    "Nmax = Deltat * T_steps # total time"
   ]
  },
  {
   "cell_type": "code",
   "execution_count": 3,
   "metadata": {},
   "outputs": [],
   "source": [
    "def source_coordinates(lx, im, jm, deltax, ssdistance):\n",
    "    j_left = round(((lx - ssdistance) / 2) / deltax)\n",
    "    j_right = round(((lx - ssdistance) / 2) / deltax) + 1\n",
    "    i_upper = round(im / 2)\n",
    "    i_lower = round(im / 2) + 1\n",
    "    return [i_upper, i_lower, j_left, j_right]\n",
    "def sink_coordinates(lx, im, jm, deltax, ssdistance):\n",
    "    j_left = round(((lx + ssdistance) / 2) / deltax)\n",
    "    j_right = round(((lx + ssdistance) / 2) / deltax) + 1\n",
    "    i_upper = round(im / 2)\n",
    "    i_lower = round(im / 2) + 1\n",
    "    return [i_upper, i_lower, j_left, j_right]"
   ]
  },
  {
   "cell_type": "code",
   "execution_count": 4,
   "metadata": {},
   "outputs": [
    {
     "name": "stdout",
     "output_type": "stream",
     "text": [
      "[42, 43, 43, 44]\n",
      "[42, 43, 50, 51]\n"
     ]
    }
   ],
   "source": [
    "print(source_coordinates(Lx, IM, JM, Deltax, SSdistance))\n",
    "print(sink_coordinates(Lx, IM, JM, Deltax, SSdistance))"
   ]
  },
  {
   "cell_type": "code",
   "execution_count": 5,
   "metadata": {},
   "outputs": [],
   "source": [
    "# sink and source positioning in grid — we are given that the size of each is exactly 4 points\n",
    "# and that their horizontal distance is 1750 km (while being centered as well)\n",
    "\n",
    "i_source_upper, i_source_lower, j_source_left, j_source_right = source_coordinates(Lx, IM, JM, Deltax, SSdistance)\n",
    "i_sink_upper, i_sink_lower, j_sink_left, j_sink_right = sink_coordinates(Lx, IM, JM, Deltax, SSdistance)"
   ]
  },
  {
   "cell_type": "code",
   "execution_count": 6,
   "metadata": {},
   "outputs": [],
   "source": [
    "# initialization of variables\n",
    "U = np.zeros((IM, JM), dtype=float)\n",
    "V = np.zeros((IM, JM), dtype=float)\n",
    "H = np.full((IM, JM), HN, dtype=float)\n",
    "UF = np.zeros((IM, JM), dtype=float)\n",
    "VF = np.zeros((IM, JM), dtype=float)\n",
    "HF = np.full((IM, JM), HN, dtype=float)"
   ]
  },
  {
   "cell_type": "code",
   "execution_count": 7,
   "metadata": {},
   "outputs": [
    {
     "name": "stdout",
     "output_type": "stream",
     "text": [
      "n =  0\n"
     ]
    },
    {
     "data": {
      "image/png": "[encoded data removed]",
      "text/plain": [
       "<Figure size 432x288 with 1 Axes>"
      ]
     },
     "metadata": {
      "needs_background": "light"
     },
     "output_type": "display_data"
    },
    {
     "name": "stdout",
     "output_type": "stream",
     "text": [
      "n =  50\n"
     ]
    },
    {
     "data": {
      "image/png": "[encoded data removed]",
      "text/plain": [
       "<Figure size 432x288 with 1 Axes>"
      ]
     },
     "metadata": {
      "needs_background": "light"
     },
     "output_type": "display_data"
    },
    {
     "name": "stdout",
     "output_type": "stream",
     "text": [
      "n =  100\n"
     ]
    },
    {
     "data": {
      "image/png": "[encoded data removed]",
      "text/plain": [
       "<Figure size 432x288 with 1 Axes>"
      ]
     },
     "metadata": {
      "needs_background": "light"
     },
     "output_type": "display_data"
    },
    {
     "name": "stdout",
     "output_type": "stream",
     "text": [
      "n =  150\n"
     ]
    },
    {
     "data": {
      "image/png": "[encoded data removed]",
      "text/plain": [
       "<Figure size 432x288 with 1 Axes>"
      ]
     },
     "metadata": {
      "needs_background": "light"
     },
     "output_type": "display_data"
    },
    {
     "name": "stdout",
     "output_type": "stream",
     "text": [
      "n =  200\n"
     ]
    },
    {
     "data": {
      "image/png": "[encoded data removed]",
      "text/plain": [
       "<Figure size 432x288 with 1 Axes>"
      ]
     },
     "metadata": {
      "needs_background": "light"
     },
     "output_type": "display_data"
    },
    {
     "name": "stdout",
     "output_type": "stream",
     "text": [
      "Wall time: 1min 27s\n"
     ]
    }
   ],
   "source": [
    "%%time\n",
    "for n in range(Nmax):\n",
    "    for i in range(2, IM - 2):\n",
    "        for j in range(2, JM - 2):\n",
    "            # TODO: implement array operations more efficiently\n",
    "            # discretized differential equations\n",
    "            HF[i, j] = H[i, j] - (HN * Deltat / d) * ((U[i, j] - U[i + 1, j]) + (V[i, j] - V[i, j + 1]))\n",
    "\n",
    "            UF[i, j] = U[i, j] - Deltat *\\\n",
    "              ( (g / d) * (HF[i - 1, j] - HF[i, j])\\\n",
    "                + (f / 4) * (V[i, j] + V[i - 1, j] + V[i - 1, j + 1] + V[i, j + 1]) )\n",
    "\n",
    "            VF[i, j] = V[i, j] - Deltat *\\\n",
    "            ( (g / d) * (HF[i, j - 1] - HF[i, j])\\\n",
    "              -(f / 4) * (U[i, j] + U[i, j - 1] + U[i + 1, j - 1] + U[i + 1, j]) )\n",
    "\n",
    "            U = deepcopy(UF)\n",
    "            V = deepcopy(VF)\n",
    "            H = deepcopy(HF)\n",
    "            \n",
    "            # simulation of influx from source\n",
    "            H[i_source_upper, j_source_left] += dh\n",
    "            H[i_source_upper, j_source_right] += dh\n",
    "            H[i_source_lower, j_source_left] += dh\n",
    "            H[i_source_lower, j_source_right] += dh\n",
    "            \n",
    "            # simulation of outflux through sink\n",
    "            H[i_sink_upper, j_sink_left] -= dh\n",
    "            H[i_sink_upper, j_sink_right] -= dh\n",
    "            H[i_sink_lower, j_sink_left] -= dh\n",
    "            H[i_sink_lower, j_sink_right] -= dh\n",
    "    if n % 50 == 0:\n",
    "        print('n = ', n)\n",
    "        plt.imshow(H, interpolation='none')\n",
    "        plt.show()\n",
    "    if n == 200:\n",
    "        break"
   ]
  },
  {
   "cell_type": "markdown",
   "metadata": {},
   "source": [
    "TODO: comments on graphs"
   ]
  },
  {
   "cell_type": "code",
   "execution_count": null,
   "metadata": {},
   "outputs": [],
   "source": []
  }
 ],
 "metadata": {
  "kernelspec": {
   "display_name": "Python 3",
   "language": "python",
   "name": "python3"
  },
  "language_info": {
   "codemirror_mode": {
    "name": "ipython",
    "version": 3
   },
   "file_extension": ".py",
   "mimetype": "text/x-python",
   "name": "python",
   "nbconvert_exporter": "python",
   "pygments_lexer": "ipython3",
   "version": "3.7.4"
  }
 },
 "nbformat": 4,
 "nbformat_minor": 2
}
